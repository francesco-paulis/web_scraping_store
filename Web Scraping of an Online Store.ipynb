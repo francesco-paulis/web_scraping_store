{
 "cells": [
  {
   "cell_type": "code",
   "execution_count": 2,
   "id": "3df96b25",
   "metadata": {},
   "outputs": [],
   "source": [
    "# import libraries\n",
    "\n",
    "from bs4 import BeautifulSoup\n",
    "import requests\n",
    "import time\n",
    "import datetime\n",
    "import smtplib # for sending email to me"
   ]
  },
  {
   "cell_type": "code",
   "execution_count": 9,
   "id": "287d58d2",
   "metadata": {},
   "outputs": [
    {
     "name": "stdout",
     "output_type": "stream",
     "text": [
      "\n",
      "<!DOCTYPE html>\n",
      "\n",
      "<!--[if lt IE 7]>      <html lang=\"en-us\" class=\"no-js lt-ie9 lt-ie8 lt-ie7\"> <![endif]-->\n",
      "<!--[if IE 7]>         <html lang=\"en-us\" class=\"no-js lt-ie9 lt-ie8\"> <![endif]-->\n",
      "<!--[if IE 8]>         <html lang=\"en-us\" class=\"no-js lt-ie9\"> <![endif]-->\n",
      "<!--[if gt IE 8]><!--> <html class=\"no-js\" lang=\"en-us\"> <!--<![endif]-->\n",
      "<head>\n",
      "<title>\n",
      "    A Light in the Attic | Books to Scrape - Sandbox\n",
      "</title>\n",
      "<meta content=\"text/html; charset=utf-8\" http-equiv=\"content-type\"/>\n",
      "<meta content=\"24th Jun 2016 09:29\" name=\"created\"/>\n",
      "<meta content=\"\n",
      "    It's hard to imagine a world without A Light in the Attic. This now-classic collection of poetry and drawings from Shel Silverstein celebrates its 20th anniversary with this special edition. Silverstein's humorous and creative verse can amuse the dowdiest of readers. Lemon-faced adults and fidgety kids sit still and read these rhythmic words and laugh and smile and love th It's hard to imagine a world without A Light in the Attic. This now-classic collection of poetry and drawings from Shel Silverstein celebrates its 20th anniversary with this special edition. Silverstein's humorous and creative verse can amuse the dowdiest of readers. Lemon-faced adults and fidgety kids sit still and read these rhythmic words and laugh and smile and love that Silverstein. Need proof of his genius? RockabyeRockabye baby, in the treetopDon't you know a treetopIs no safe place to rock?And who put you up there,And your cradle, too?Baby, I think someone down here'sGot it in for you. Shel, you never sounded so good. ...more\n",
      "\" name=\"description\"/>\n",
      "<meta content=\"width=device-width\" name=\"viewport\"/>\n",
      "<meta content=\"NOARCHIVE,NOCACHE\" name=\"robots\"/>\n",
      "<!-- Le HTML5 shim, for IE6-8 support of HTML elements -->\n",
      "<!--[if lt IE 9]>\n",
      "        <script src=\"//html5shim.googlecode.com/svn/trunk/html5.js\"></script>\n",
      "        <![endif]-->\n",
      "<link href=\"../../static/oscar/favicon.ico\" rel=\"shortcut icon\"/>\n",
      "<link href=\"../../static/oscar/css/styles.css\" rel=\"stylesheet\" type=\"text/css\"/>\n",
      "<link href=\"../../static/oscar/js/bootstrap-datetimepicker/bootstrap-datetimepicker.css\" rel=\"stylesheet\"/>\n",
      "<link href=\"../../static/oscar/css/datetimepicker.css\" rel=\"stylesheet\" type=\"text/css\"/>\n",
      "</head>\n",
      "<body class=\"default\" id=\"default\">\n",
      "<header class=\"header container-fluid\">\n",
      "<div class=\"page_inner\">\n",
      "<div class=\"row\">\n",
      "<div class=\"col-sm-8 h1\"><a href=\"../../index.html\">Books to Scrape</a><small> We love being scraped!</small>\n",
      "</div>\n",
      "</div>\n",
      "</div>\n",
      "</header>\n",
      "<div class=\"container-fluid page\">\n",
      "<div class=\"page_inner\">\n",
      "<ul class=\"breadcrumb\">\n",
      "<li>\n",
      "<a href=\"../../index.html\">Home</a>\n",
      "</li>\n",
      "<li>\n",
      "<a href=\"../category/books_1/index.html\">Books</a>\n",
      "</li>\n",
      "<li>\n",
      "<a href=\"../category/books/poetry_23/index.html\">Poetry</a>\n",
      "</li>\n",
      "<li class=\"active\">A Light in the Attic</li>\n",
      "</ul>\n",
      "<div id=\"messages\">\n",
      "</div>\n",
      "<div class=\"content\">\n",
      "<div id=\"promotions\">\n",
      "</div>\n",
      "<div id=\"content_inner\">\n",
      "<article class=\"product_page\"><!-- Start of product page -->\n",
      "<div class=\"row\">\n",
      "<div class=\"col-sm-6\">\n",
      "<div class=\"carousel\" id=\"product_gallery\">\n",
      "<div class=\"thumbnail\">\n",
      "<div class=\"carousel-inner\">\n",
      "<div class=\"item active\">\n",
      "<img alt=\"A Light in the Attic\" src=\"../../media/cache/fe/72/fe72f0532301ec28892ae79a629a293c.jpg\"/>\n",
      "</div>\n",
      "</div>\n",
      "</div>\n",
      "</div>\n",
      "</div>\n",
      "<div class=\"col-sm-6 product_main\">\n",
      "<h1>A Light in the Attic</h1>\n",
      "<p class=\"price_color\">£51.77</p>\n",
      "<p class=\"instock availability\">\n",
      "<i class=\"icon-ok\"></i>\n",
      "    \n",
      "        In stock (22 available)\n",
      "    \n",
      "</p>\n",
      "<p class=\"star-rating Three\">\n",
      "<i class=\"icon-star\"></i>\n",
      "<i class=\"icon-star\"></i>\n",
      "<i class=\"icon-star\"></i>\n",
      "<i class=\"icon-star\"></i>\n",
      "<i class=\"icon-star\"></i>\n",
      "<!-- <small><a href=\"/catalogue/a-light-in-the-attic_1000/reviews/\">\n",
      "        \n",
      "                \n",
      "                    0 customer reviews\n",
      "                \n",
      "        </a></small>\n",
      "         --> \n",
      "\n",
      "\n",
      "<!-- \n",
      "    <a id=\"write_review\" href=\"/catalogue/a-light-in-the-attic_1000/reviews/add/#addreview\" class=\"btn btn-success btn-sm\">\n",
      "        Write a review\n",
      "    </a>\n",
      "\n",
      " --></p>\n",
      "<hr/>\n",
      "<div class=\"alert alert-warning\" role=\"alert\"><strong>Warning!</strong> This is a demo website for web scraping purposes. Prices and ratings here were randomly assigned and have no real meaning.</div>\n",
      "</div><!-- /col-sm-6 -->\n",
      "</div><!-- /row -->\n",
      "<div class=\"sub-header\" id=\"product_description\">\n",
      "<h2>Product Description</h2>\n",
      "</div>\n",
      "<p>It's hard to imagine a world without A Light in the Attic. This now-classic collection of poetry and drawings from Shel Silverstein celebrates its 20th anniversary with this special edition. Silverstein's humorous and creative verse can amuse the dowdiest of readers. Lemon-faced adults and fidgety kids sit still and read these rhythmic words and laugh and smile and love th It's hard to imagine a world without A Light in the Attic. This now-classic collection of poetry and drawings from Shel Silverstein celebrates its 20th anniversary with this special edition. Silverstein's humorous and creative verse can amuse the dowdiest of readers. Lemon-faced adults and fidgety kids sit still and read these rhythmic words and laugh and smile and love that Silverstein. Need proof of his genius? RockabyeRockabye baby, in the treetopDon't you know a treetopIs no safe place to rock?And who put you up there,And your cradle, too?Baby, I think someone down here'sGot it in for you. Shel, you never sounded so good. ...more</p>\n",
      "<div class=\"sub-header\">\n",
      "<h2>Product Information</h2>\n",
      "</div>\n",
      "<table class=\"table table-striped\">\n",
      "<tr>\n",
      "<th>UPC</th><td>a897fe39b1053632</td>\n",
      "</tr>\n",
      "<tr>\n",
      "<th>Product Type</th><td>Books</td>\n",
      "</tr>\n",
      "<tr>\n",
      "<th>Price (excl. tax)</th><td>£51.77</td>\n",
      "</tr>\n",
      "<tr>\n",
      "<th>Price (incl. tax)</th><td>£51.77</td>\n",
      "</tr>\n",
      "<tr>\n",
      "<th>Tax</th><td>£0.00</td>\n",
      "</tr>\n",
      "<tr>\n",
      "<th>Availability</th>\n",
      "<td>In stock (22 available)</td>\n",
      "</tr>\n",
      "<tr>\n",
      "<th>Number of reviews</th>\n",
      "<td>0</td>\n",
      "</tr>\n",
      "</table>\n",
      "<section>\n",
      "<div class=\"sub-header\" id=\"reviews\">\n",
      "</div>\n",
      "</section>\n",
      "</article><!-- End of product page -->\n",
      "</div>\n",
      "</div>\n",
      "</div>\n",
      "</div>\n",
      "<footer class=\"footer container-fluid\">\n",
      "</footer>\n",
      "<!-- jQuery -->\n",
      "<script src=\"http://ajax.googleapis.com/ajax/libs/jquery/1.9.1/jquery.min.js\"></script>\n",
      "<script>window.jQuery || document.write('<script src=\"../../static/oscar/js/jquery/jquery-1.9.1.min.js\"><\\/script>')</script>\n",
      "<!-- Twitter Bootstrap -->\n",
      "<script src=\"../../static/oscar/js/bootstrap3/bootstrap.min.js\" type=\"text/javascript\"></script>\n",
      "<!-- Oscar -->\n",
      "<script charset=\"utf-8\" src=\"../../static/oscar/js/oscar/ui.js\" type=\"text/javascript\"></script>\n",
      "<script charset=\"utf-8\" src=\"../../static/oscar/js/bootstrap-datetimepicker/bootstrap-datetimepicker.js\" type=\"text/javascript\"></script>\n",
      "<script charset=\"utf-8\" src=\"../../static/oscar/js/bootstrap-datetimepicker/locales/bootstrap-datetimepicker.all.js\" type=\"text/javascript\"></script>\n",
      "<script type=\"text/javascript\">\n",
      "            $(function() {\n",
      "                \n",
      "    \n",
      "    oscar.init();\n",
      "\n",
      "            });\n",
      "        </script>\n",
      "<!-- Version: N/A -->\n",
      "</body>\n",
      "</html>\n",
      "\n"
     ]
    }
   ],
   "source": [
    "# connecting to the website\n",
    "\n",
    "URL = 'https://books.toscrape.com/catalogue/a-light-in-the-attic_1000/index.html'\n",
    "\n",
    "headers = {\"User-Agent\": \"Mozilla/5.0 (Macintosh; Intel Mac OS X 10_15_7) AppleWebKit/537.36 (KHTML, like Gecko) Chrome/125.0.0.0 Safari/537.36\", \"Accept-Language\": \"en-US,en;q=0.9,it-IT;q=0.8,it;q=0.7\"}\n",
    "\n",
    "page = requests.get(URL, headers = headers)\n",
    "\n",
    "soup1 = BeautifulSoup(page.content, \"html.parser\")\n",
    "\n",
    "print(soup1)"
   ]
  },
  {
   "cell_type": "code",
   "execution_count": 10,
   "id": "ab14f50b",
   "metadata": {},
   "outputs": [
    {
     "name": "stdout",
     "output_type": "stream",
     "text": [
      "<!DOCTYPE html>\n",
      "\n",
      "<!--[if lt IE 7]>      <html lang=\"en-us\" class=\"no-js lt-ie9 lt-ie8 lt-ie7\"> <![endif]-->\n",
      "<!--[if IE 7]>         <html lang=\"en-us\" class=\"no-js lt-ie9 lt-ie8\"> <![endif]-->\n",
      "<!--[if IE 8]>         <html lang=\"en-us\" class=\"no-js lt-ie9\"> <![endif]-->\n",
      "<!--[if gt IE 8]><!-->\n",
      "<html class=\"no-js\" lang=\"en-us\">\n",
      "<!--<![endif]-->\n",
      "<head>\n",
      "<title>\n",
      "   A Light in the Attic | Books to Scrape - Sandbox\n",
      "  </title>\n",
      "<meta content=\"text/html; charset=utf-8\" http-equiv=\"content-type\"/>\n",
      "<meta content=\"24th Jun 2016 09:29\" name=\"created\"/>\n",
      "<meta content=\"\n",
      "    It's hard to imagine a world without A Light in the Attic. This now-classic collection of poetry and drawings from Shel Silverstein celebrates its 20th anniversary with this special edition. Silverstein's humorous and creative verse can amuse the dowdiest of readers. Lemon-faced adults and fidgety kids sit still and read these rhythmic words and laugh and smile and love th It's hard to imagine a world without A Light in the Attic. This now-classic collection of poetry and drawings from Shel Silverstein celebrates its 20th anniversary with this special edition. Silverstein's humorous and creative verse can amuse the dowdiest of readers. Lemon-faced adults and fidgety kids sit still and read these rhythmic words and laugh and smile and love that Silverstein. Need proof of his genius? RockabyeRockabye baby, in the treetopDon't you know a treetopIs no safe place to rock?And who put you up there,And your cradle, too?Baby, I think someone down here'sGot it in for you. Shel, you never sounded so good. ...more\n",
      "\" name=\"description\"/>\n",
      "<meta content=\"width=device-width\" name=\"viewport\"/>\n",
      "<meta content=\"NOARCHIVE,NOCACHE\" name=\"robots\"/>\n",
      "<!-- Le HTML5 shim, for IE6-8 support of HTML elements -->\n",
      "<!--[if lt IE 9]>\n",
      "        <script src=\"//html5shim.googlecode.com/svn/trunk/html5.js\"></script>\n",
      "        <![endif]-->\n",
      "<link href=\"../../static/oscar/favicon.ico\" rel=\"shortcut icon\"/>\n",
      "<link href=\"../../static/oscar/css/styles.css\" rel=\"stylesheet\" type=\"text/css\"/>\n",
      "<link href=\"../../static/oscar/js/bootstrap-datetimepicker/bootstrap-datetimepicker.css\" rel=\"stylesheet\"/>\n",
      "<link href=\"../../static/oscar/css/datetimepicker.css\" rel=\"stylesheet\" type=\"text/css\"/>\n",
      "</head>\n",
      "<body class=\"default\" id=\"default\">\n",
      "<header class=\"header container-fluid\">\n",
      "<div class=\"page_inner\">\n",
      "<div class=\"row\">\n",
      "<div class=\"col-sm-8 h1\">\n",
      "<a href=\"../../index.html\">\n",
      "       Books to Scrape\n",
      "      </a>\n",
      "<small>\n",
      "       We love being scraped!\n",
      "      </small>\n",
      "</div>\n",
      "</div>\n",
      "</div>\n",
      "</header>\n",
      "<div class=\"container-fluid page\">\n",
      "<div class=\"page_inner\">\n",
      "<ul class=\"breadcrumb\">\n",
      "<li>\n",
      "<a href=\"../../index.html\">\n",
      "       Home\n",
      "      </a>\n",
      "</li>\n",
      "<li>\n",
      "<a href=\"../category/books_1/index.html\">\n",
      "       Books\n",
      "      </a>\n",
      "</li>\n",
      "<li>\n",
      "<a href=\"../category/books/poetry_23/index.html\">\n",
      "       Poetry\n",
      "      </a>\n",
      "</li>\n",
      "<li class=\"active\">\n",
      "      A Light in the Attic\n",
      "     </li>\n",
      "</ul>\n",
      "<div id=\"messages\">\n",
      "</div>\n",
      "<div class=\"content\">\n",
      "<div id=\"promotions\">\n",
      "</div>\n",
      "<div id=\"content_inner\">\n",
      "<article class=\"product_page\">\n",
      "<!-- Start of product page -->\n",
      "<div class=\"row\">\n",
      "<div class=\"col-sm-6\">\n",
      "<div class=\"carousel\" id=\"product_gallery\">\n",
      "<div class=\"thumbnail\">\n",
      "<div class=\"carousel-inner\">\n",
      "<div class=\"item active\">\n",
      "<img alt=\"A Light in the Attic\" src=\"../../media/cache/fe/72/fe72f0532301ec28892ae79a629a293c.jpg\"/>\n",
      "</div>\n",
      "</div>\n",
      "</div>\n",
      "</div>\n",
      "</div>\n",
      "<div class=\"col-sm-6 product_main\">\n",
      "<h1>\n",
      "          A Light in the Attic\n",
      "         </h1>\n",
      "<p class=\"price_color\">\n",
      "          £51.77\n",
      "         </p>\n",
      "<p class=\"instock availability\">\n",
      "<i class=\"icon-ok\">\n",
      "</i>\n",
      "          In stock (22 available)\n",
      "         </p>\n",
      "<p class=\"star-rating Three\">\n",
      "<i class=\"icon-star\">\n",
      "</i>\n",
      "<i class=\"icon-star\">\n",
      "</i>\n",
      "<i class=\"icon-star\">\n",
      "</i>\n",
      "<i class=\"icon-star\">\n",
      "</i>\n",
      "<i class=\"icon-star\">\n",
      "</i>\n",
      "<!-- <small><a href=\"/catalogue/a-light-in-the-attic_1000/reviews/\">\n",
      "        \n",
      "                \n",
      "                    0 customer reviews\n",
      "                \n",
      "        </a></small>\n",
      "         -->\n",
      "<!-- \n",
      "    <a id=\"write_review\" href=\"/catalogue/a-light-in-the-attic_1000/reviews/add/#addreview\" class=\"btn btn-success btn-sm\">\n",
      "        Write a review\n",
      "    </a>\n",
      "\n",
      " -->\n",
      "</p>\n",
      "<hr/>\n",
      "<div class=\"alert alert-warning\" role=\"alert\">\n",
      "<strong>\n",
      "           Warning!\n",
      "          </strong>\n",
      "          This is a demo website for web scraping purposes. Prices and ratings here were randomly assigned and have no real meaning.\n",
      "         </div>\n",
      "</div>\n",
      "<!-- /col-sm-6 -->\n",
      "</div>\n",
      "<!-- /row -->\n",
      "<div class=\"sub-header\" id=\"product_description\">\n",
      "<h2>\n",
      "         Product Description\n",
      "        </h2>\n",
      "</div>\n",
      "<p>\n",
      "        It's hard to imagine a world without A Light in the Attic. This now-classic collection of poetry and drawings from Shel Silverstein celebrates its 20th anniversary with this special edition. Silverstein's humorous and creative verse can amuse the dowdiest of readers. Lemon-faced adults and fidgety kids sit still and read these rhythmic words and laugh and smile and love th It's hard to imagine a world without A Light in the Attic. This now-classic collection of poetry and drawings from Shel Silverstein celebrates its 20th anniversary with this special edition. Silverstein's humorous and creative verse can amuse the dowdiest of readers. Lemon-faced adults and fidgety kids sit still and read these rhythmic words and laugh and smile and love that Silverstein. Need proof of his genius? RockabyeRockabye baby, in the treetopDon't you know a treetopIs no safe place to rock?And who put you up there,And your cradle, too?Baby, I think someone down here'sGot it in for you. Shel, you never sounded so good. ...more\n",
      "       </p>\n",
      "<div class=\"sub-header\">\n",
      "<h2>\n",
      "         Product Information\n",
      "        </h2>\n",
      "</div>\n",
      "<table class=\"table table-striped\">\n",
      "<tr>\n",
      "<th>\n",
      "          UPC\n",
      "         </th>\n",
      "<td>\n",
      "          a897fe39b1053632\n",
      "         </td>\n",
      "</tr>\n",
      "<tr>\n",
      "<th>\n",
      "          Product Type\n",
      "         </th>\n",
      "<td>\n",
      "          Books\n",
      "         </td>\n",
      "</tr>\n",
      "<tr>\n",
      "<th>\n",
      "          Price (excl. tax)\n",
      "         </th>\n",
      "<td>\n",
      "          £51.77\n",
      "         </td>\n",
      "</tr>\n",
      "<tr>\n",
      "<th>\n",
      "          Price (incl. tax)\n",
      "         </th>\n",
      "<td>\n",
      "          £51.77\n",
      "         </td>\n",
      "</tr>\n",
      "<tr>\n",
      "<th>\n",
      "          Tax\n",
      "         </th>\n",
      "<td>\n",
      "          £0.00\n",
      "         </td>\n",
      "</tr>\n",
      "<tr>\n",
      "<th>\n",
      "          Availability\n",
      "         </th>\n",
      "<td>\n",
      "          In stock (22 available)\n",
      "         </td>\n",
      "</tr>\n",
      "<tr>\n",
      "<th>\n",
      "          Number of reviews\n",
      "         </th>\n",
      "<td>\n",
      "          0\n",
      "         </td>\n",
      "</tr>\n",
      "</table>\n",
      "<section>\n",
      "<div class=\"sub-header\" id=\"reviews\">\n",
      "</div>\n",
      "</section>\n",
      "</article>\n",
      "<!-- End of product page -->\n",
      "</div>\n",
      "</div>\n",
      "</div>\n",
      "</div>\n",
      "<footer class=\"footer container-fluid\">\n",
      "</footer>\n",
      "<!-- jQuery -->\n",
      "<script src=\"http://ajax.googleapis.com/ajax/libs/jquery/1.9.1/jquery.min.js\">\n",
      "</script>\n",
      "<script>\n",
      "   window.jQuery || document.write('<script src=\"../../static/oscar/js/jquery/jquery-1.9.1.min.js\"><\\/script>')\n",
      "  </script>\n",
      "<!-- Twitter Bootstrap -->\n",
      "<script src=\"../../static/oscar/js/bootstrap3/bootstrap.min.js\" type=\"text/javascript\">\n",
      "</script>\n",
      "<!-- Oscar -->\n",
      "<script charset=\"utf-8\" src=\"../../static/oscar/js/oscar/ui.js\" type=\"text/javascript\">\n",
      "</script>\n",
      "<script charset=\"utf-8\" src=\"../../static/oscar/js/bootstrap-datetimepicker/bootstrap-datetimepicker.js\" type=\"text/javascript\">\n",
      "</script>\n",
      "<script charset=\"utf-8\" src=\"../../static/oscar/js/bootstrap-datetimepicker/locales/bootstrap-datetimepicker.all.js\" type=\"text/javascript\">\n",
      "</script>\n",
      "<script type=\"text/javascript\">\n",
      "   $(function() {\n",
      "                \n",
      "    \n",
      "    oscar.init();\n",
      "\n",
      "            });\n",
      "  </script>\n",
      "<!-- Version: N/A -->\n",
      "</body>\n",
      "</html>\n",
      "\n"
     ]
    }
   ],
   "source": [
    "soup2 = BeautifulSoup(soup1.prettify(), 'html.parser')\n",
    "\n",
    "print(soup2)"
   ]
  },
  {
   "cell_type": "code",
   "execution_count": 34,
   "id": "ea42809f",
   "metadata": {},
   "outputs": [],
   "source": [
    "# getting the name of the product\n",
    "\n",
    "\n",
    "h1_tag = soup2.find('h1')"
   ]
  },
  {
   "cell_type": "code",
   "execution_count": 35,
   "id": "a5ec6dc0",
   "metadata": {},
   "outputs": [
    {
     "name": "stdout",
     "output_type": "stream",
     "text": [
      "\n",
      "          A Light in the Attic\n",
      "         \n"
     ]
    }
   ],
   "source": [
    "title = h1_tag.get_text()\n",
    "\n",
    "print(title)"
   ]
  },
  {
   "cell_type": "code",
   "execution_count": 37,
   "id": "8be06ad3",
   "metadata": {},
   "outputs": [
    {
     "name": "stdout",
     "output_type": "stream",
     "text": [
      "\n",
      "          £51.77\n",
      "         \n"
     ]
    }
   ],
   "source": [
    "price = soup2.find(class_ = 'price_color').get_text()\n",
    "print(price)"
   ]
  },
  {
   "cell_type": "code",
   "execution_count": 38,
   "id": "f631fa54",
   "metadata": {},
   "outputs": [
    {
     "data": {
      "text/plain": [
       "'A Light in the Attic'"
      ]
     },
     "execution_count": 38,
     "metadata": {},
     "output_type": "execute_result"
    }
   ],
   "source": [
    "# cleaning results extracted\n",
    "\n",
    "title.strip()"
   ]
  },
  {
   "cell_type": "code",
   "execution_count": 46,
   "id": "4d006765",
   "metadata": {},
   "outputs": [],
   "source": [
    "title = title.strip()"
   ]
  },
  {
   "cell_type": "code",
   "execution_count": 50,
   "id": "cb7dc5a4",
   "metadata": {},
   "outputs": [],
   "source": [
    "# if one wants to delete the euro simbol\n",
    "\n",
    "price = price.strip()[1:]"
   ]
  },
  {
   "cell_type": "code",
   "execution_count": 51,
   "id": "1beba064",
   "metadata": {},
   "outputs": [
    {
     "name": "stdout",
     "output_type": "stream",
     "text": [
      "A Light in the Attic\n",
      "51.77\n"
     ]
    }
   ],
   "source": [
    "print(title)\n",
    "print(price)"
   ]
  },
  {
   "cell_type": "markdown",
   "id": "36dda2a3",
   "metadata": {},
   "source": [
    "### creating a csv file where to put the data extracted"
   ]
  },
  {
   "cell_type": "code",
   "execution_count": 41,
   "id": "621ec4c7",
   "metadata": {},
   "outputs": [],
   "source": [
    "# creating a process to append more data into the csv"
   ]
  },
  {
   "cell_type": "code",
   "execution_count": 52,
   "id": "d60d5127",
   "metadata": {},
   "outputs": [
    {
     "data": {
      "text/plain": [
       "str"
      ]
     },
     "execution_count": 52,
     "metadata": {},
     "output_type": "execute_result"
    }
   ],
   "source": [
    "type(price)"
   ]
  },
  {
   "cell_type": "code",
   "execution_count": 53,
   "id": "c3558812",
   "metadata": {},
   "outputs": [],
   "source": [
    "# due to the fact that 'price' is a string, it's necessary to transform it in a numerical type in order to be used appropiately"
   ]
  },
  {
   "cell_type": "code",
   "execution_count": 54,
   "id": "5ec8c8d6",
   "metadata": {},
   "outputs": [
    {
     "name": "stdout",
     "output_type": "stream",
     "text": [
      "2024-06-13\n"
     ]
    }
   ],
   "source": [
    "# adding a date for every import\n",
    "\n",
    "import datetime\n",
    "\n",
    "today = datetime.date.today()\n",
    "\n",
    "print(today)"
   ]
  },
  {
   "cell_type": "code",
   "execution_count": 64,
   "id": "eebe0bee",
   "metadata": {},
   "outputs": [],
   "source": [
    "# initial inputs to the new csv file\n",
    "\n",
    "import csv\n",
    "\n",
    "header = ['Product_name', 'Price', 'Date']\n",
    "data = [title, price, today] # list\n",
    "\n",
    "with open('bookstore_dataset.csv', 'w', newline = '', encoding = 'UTF8') as f: # 'w' stands for 'write'; with 'newline' when data are inserted there aren'tspace between them; \n",
    "    writer = csv.writer(f)   # in the csv library\n",
    "    writer.writerow(header)  # inserting the header\n",
    "    writer.writerow(data)    # inserting the data\n",
    "   "
   ]
  },
  {
   "cell_type": "code",
   "execution_count": 72,
   "id": "6b3a5ff9",
   "metadata": {},
   "outputs": [
    {
     "name": "stdout",
     "output_type": "stream",
     "text": [
      "   A Light in the Attic  51.77  2024-06-13\n",
      "0  A Light in the Attic  51.77  2024-06-13\n",
      "1  A Light in the Attic  51.77  2024-06-13\n",
      "2  A Light in the Attic  51.77  2024-06-13\n",
      "3  A Light in the Attic  51.77  2024-06-13\n",
      "4  A Light in the Attic  51.77  2024-06-13\n",
      "5  A Light in the Attic  51.77  2024-06-13\n",
      "6  A Light in the Attic  51.77  2024-06-13\n",
      "7  A Light in the Attic  51.77  2024-06-13\n"
     ]
    }
   ],
   "source": [
    "import pandas as pd\n",
    "\n",
    "df = pd.read_csv(r'/Users/f.p./bookstore_dataset.csv')\n",
    "\n",
    "print(df)"
   ]
  },
  {
   "cell_type": "code",
   "execution_count": 66,
   "id": "8168f04b",
   "metadata": {},
   "outputs": [],
   "source": [
    "# appending data to the csv file\n",
    "\n",
    "with open('bookstore_dataset.csv', 'a+', newline = '', encoding = 'UTF8') as f:\n",
    "    writer = csv.writer(f)\n",
    "    writer.writerow(data)"
   ]
  },
  {
   "cell_type": "code",
   "execution_count": 63,
   "id": "daaca307",
   "metadata": {},
   "outputs": [
    {
     "name": "stdout",
     "output_type": "stream",
     "text": [
      "Empty DataFrame\n",
      "Columns: [A Light in the Attic, 51.77, 2024-06-13]\n",
      "Index: []\n"
     ]
    }
   ],
   "source": [
    "df = pd.read_csv(r'/Users/f.p./bookstore_dataset.csv')\n",
    "\n",
    "print(df)"
   ]
  },
  {
   "cell_type": "markdown",
   "id": "d3b0a88b",
   "metadata": {},
   "source": [
    "### automation of the price check"
   ]
  },
  {
   "cell_type": "code",
   "execution_count": 70,
   "id": "fe1994c5",
   "metadata": {},
   "outputs": [],
   "source": [
    "# definition of the function that allows to check the price, through the previous chuncks of code\n",
    "\n",
    "def check_price():\n",
    "   \n",
    "    URL = 'https://books.toscrape.com/catalogue/a-light-in-the-attic_1000/index.html'\n",
    "    \n",
    "    headers = {\"User-Agent\": \"Mozilla/5.0 (Macintosh; Intel Mac OS X 10_15_7) AppleWebKit/537.36 (KHTML, like Gecko) Chrome/125.0.0.0 Safari/537.36\", \"Accept-Language\": \"en-US,en;q=0.9,it-IT;q=0.8,it;q=0.7\"}\n",
    "\n",
    "    page = requests.get(URL, headers = headers)\n",
    "\n",
    "    soup1 = BeautifulSoup(page.content, \"html.parser\")\n",
    "\n",
    "    soup2 = BeautifulSoup(soup1.prettify(), 'html.parser')\n",
    "\n",
    "    h1_tag = soup2.find('h1')\n",
    "    \n",
    "    title = h1_tag.get_text()\n",
    " \n",
    "    price = soup2.find(class_ = 'price_color').get_text()\n",
    "    \n",
    "    title = title.strip()\n",
    "    \n",
    "    price = price.strip()[1:]\n",
    "    \n",
    "    import datetime\n",
    "\n",
    "    today = datetime.date.today()\n",
    "\n",
    "    import csv\n",
    "\n",
    "    header = ['Product_name', 'Price', 'Date']\n",
    "    data = [title, price, today] # list\n",
    "\n",
    "    with open('bookstore_dataset.csv', 'a+', newline = '', encoding = 'UTF8') as f: # 'w' stands for 'write'; with 'newline' when data are inserted there aren'tspace between them; \n",
    "        writer = csv.writer(f)   # in the csv library\n",
    "        writer.writerow(data)    # inserting the data\n"
   ]
  },
  {
   "cell_type": "code",
   "execution_count": 73,
   "id": "96570b25",
   "metadata": {},
   "outputs": [
    {
     "name": "stderr",
     "output_type": "stream",
     "text": [
      "\n",
      "KeyboardInterrupt\n",
      "\n"
     ]
    }
   ],
   "source": [
    "while(True):\n",
    "    check_price()\n",
    "    time.sleep(86400) # every day will be checked the price and reported in the csv file"
   ]
  },
  {
   "cell_type": "markdown",
   "id": "6bdec24e",
   "metadata": {},
   "source": [
    "### sending an alert if the price, due to a variation, is found in a certain range "
   ]
  },
  {
   "cell_type": "code",
   "execution_count": null,
   "id": "a00cea5a",
   "metadata": {},
   "outputs": [],
   "source": [
    "def send_mail():\n",
    "    server = smtlib.SMTP_SSL('smtp.gmail.com',465)\n",
    "    server.ehlo()\n",
    "    server.login('xxxxxxxxx@gmail.com','xxxxxx')\n",
    "    \n",
    "    subject = \"The item you want has been discounted!\"\n",
    "    body = \"This is the right moment to buy the item you are interested in\"\n",
    "    \n",
    "    msg = f\"Subject: {subject}\\n\\n{body}\"\n",
    "    \n",
    "    server.sendmail(\n",
    "        'xxxxxxxxx@gmail.com',\n",
    "        msg\n",
    "    )"
   ]
  }
 ],
 "metadata": {
  "kernelspec": {
   "display_name": "Python 3 (ipykernel)",
   "language": "python",
   "name": "python3"
  },
  "language_info": {
   "codemirror_mode": {
    "name": "ipython",
    "version": 3
   },
   "file_extension": ".py",
   "mimetype": "text/x-python",
   "name": "python",
   "nbconvert_exporter": "python",
   "pygments_lexer": "ipython3",
   "version": "3.11.7"
  }
 },
 "nbformat": 4,
 "nbformat_minor": 5
}
